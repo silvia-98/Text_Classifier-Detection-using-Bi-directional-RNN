{
  "nbformat": 4,
  "nbformat_minor": 0,
  "metadata": {
    "colab": {
      "name": "170104142_Assignments3_Bidirectional_RNN.ipynb",
      "provenance": [],
      "collapsed_sections": []
    },
    "kernelspec": {
      "name": "python3",
      "display_name": "Python 3"
    },
    "language_info": {
      "name": "python"
    }
  },
  "cells": [
    {
      "cell_type": "markdown",
      "metadata": {
        "id": "QrdIKkWPVScr"
      },
      "source": [
        "**Last 3 digit of ID:** 142\n",
        "\n",
        "Now, (Last 3 digit of id%3) = 142%3 = 1. That means the dataset is:  **Dataset 2**\n",
        "\n",
        "\n",
        "Last (3 digit of id + dataset number)%5 = (142+2)%5 = 4.\n",
        "That means Model is:  **Bidirectional RNN**"
      ]
    },
    {
      "cell_type": "code",
      "metadata": {
        "id": "BaO2jJ4ZVQen"
      },
      "source": [
        "import matplotlib.pyplot as plt\n",
        "import tensorflow as tf\n",
        "import numpy as np\n",
        "from scipy.spatial.distance import cdist\n",
        "from tensorflow.keras.models import Sequential\n",
        "from tensorflow.keras.layers import Dense, GRU, Embedding\n",
        "from tensorflow.keras.optimizers import Adam\n",
        "from tensorflow.keras.preprocessing.text import Tokenizer\n",
        "from tensorflow.keras.preprocessing.sequence import pad_sequences\n",
        "import re\n",
        "import os\n",
        "import nltk\n",
        "import string\n",
        "import datetime\n",
        "import numpy as np\n",
        "import pandas as pd\n",
        "import seaborn as sn\n",
        "import tensorflow as tf\n",
        "from pathlib import Path\n",
        "from collections import Counter\n",
        "import matplotlib.pyplot as plt\n",
        "from nltk.corpus import stopwords\n",
        "from keras.models import Sequential\n",
        "from nltk.stem import WordNetLemmatizer\n",
        "from keras.preprocessing.text import Tokenizer\n",
        "from tensorflow.python.keras.metrics import Metric\n",
        "from sklearn.model_selection import train_test_split\n",
        "from keras.preprocessing.sequence import pad_sequences\n",
        "from keras.layers import Embedding, RNN, Dense, Dropout, Bidirectional\n",
        "from google_drive_downloader import GoogleDriveDownloader as gdd"
      ],
      "execution_count": null,
      "outputs": []
    },
    {
      "cell_type": "code",
      "metadata": {
        "colab": {
          "base_uri": "https://localhost:8080/"
        },
        "id": "DF-K_IipEECm",
        "outputId": "737fb61d-efd9-49ce-fe57-9a22cf9f2d7b"
      },
      "source": [
        "from google.colab import drive\n",
        "drive.mount('/content/drive')"
      ],
      "execution_count": null,
      "outputs": [
        {
          "output_type": "stream",
          "name": "stdout",
          "text": [
            "Drive already mounted at /content/drive; to attempt to forcibly remount, call drive.mount(\"/content/drive\", force_remount=True).\n"
          ]
        }
      ]
    },
    {
      "cell_type": "code",
      "metadata": {
        "colab": {
          "base_uri": "https://localhost:8080/",
          "height": 35
        },
        "id": "D3h38v56z9kH",
        "outputId": "484a66d6-468f-4c32-e98f-239c7d9fa348"
      },
      "source": [
        "tf.__version__"
      ],
      "execution_count": null,
      "outputs": [
        {
          "output_type": "execute_result",
          "data": {
            "application/vnd.google.colaboratory.intrinsic+json": {
              "type": "string"
            },
            "text/plain": [
              "'2.6.0'"
            ]
          },
          "metadata": {},
          "execution_count": 3
        }
      ]
    },
    {
      "cell_type": "code",
      "metadata": {
        "colab": {
          "base_uri": "https://localhost:8080/",
          "height": 35
        },
        "id": "JqUllxCn0kLJ",
        "outputId": "81797414-2c4d-41bc-c20e-aef91fd5ea78"
      },
      "source": [
        "tf.keras.__version__"
      ],
      "execution_count": null,
      "outputs": [
        {
          "output_type": "execute_result",
          "data": {
            "application/vnd.google.colaboratory.intrinsic+json": {
              "type": "string"
            },
            "text/plain": [
              "'2.6.0'"
            ]
          },
          "metadata": {},
          "execution_count": 4
        }
      ]
    },
    {
      "cell_type": "code",
      "metadata": {
        "id": "rBrjkol30x1b"
      },
      "source": [
        "DATA_PATH = '/content/drive/My Drive/Dataset 2.csv'\n",
        "if not Path(DATA_PATH).is_file():\n",
        "    gdd.download_file_from_google_drive(\n",
        "        file_id='1L7gRzRsyWzQ6jtRg86q81aVfKbREYv2A',\n",
        "        dest_path=DATA_PATH,\n",
        "    )"
      ],
      "execution_count": null,
      "outputs": []
    },
    {
      "cell_type": "code",
      "metadata": {
        "colab": {
          "base_uri": "https://localhost:8080/",
          "height": 419
        },
        "id": "Zs_LatMJ1aar",
        "outputId": "b7ead3bf-fbe0-49a6-a347-63b52ddf251f"
      },
      "source": [
        "df = pd.read_csv(DATA_PATH, engine = \"python\")\n",
        "df"
      ],
      "execution_count": null,
      "outputs": [
        {
          "output_type": "execute_result",
          "data": {
            "text/html": [
              "<div>\n",
              "<style scoped>\n",
              "    .dataframe tbody tr th:only-of-type {\n",
              "        vertical-align: middle;\n",
              "    }\n",
              "\n",
              "    .dataframe tbody tr th {\n",
              "        vertical-align: top;\n",
              "    }\n",
              "\n",
              "    .dataframe thead th {\n",
              "        text-align: right;\n",
              "    }\n",
              "</style>\n",
              "<table border=\"1\" class=\"dataframe\">\n",
              "  <thead>\n",
              "    <tr style=\"text-align: right;\">\n",
              "      <th></th>\n",
              "      <th>text</th>\n",
              "      <th>polarity</th>\n",
              "    </tr>\n",
              "  </thead>\n",
              "  <tbody>\n",
              "    <tr>\n",
              "      <th>0</th>\n",
              "      <td>just had a real good moment. i missssssssss hi...</td>\n",
              "      <td>0</td>\n",
              "    </tr>\n",
              "    <tr>\n",
              "      <th>1</th>\n",
              "      <td>is reading manga  http://plurk.com/p/mzp1e</td>\n",
              "      <td>0</td>\n",
              "    </tr>\n",
              "    <tr>\n",
              "      <th>2</th>\n",
              "      <td>@comeagainjen http://twitpic.com/2y2lx - http:...</td>\n",
              "      <td>0</td>\n",
              "    </tr>\n",
              "    <tr>\n",
              "      <th>3</th>\n",
              "      <td>@lapcat Need to send 'em to my accountant tomo...</td>\n",
              "      <td>0</td>\n",
              "    </tr>\n",
              "    <tr>\n",
              "      <th>4</th>\n",
              "      <td>ADD ME ON MYSPACE!!!  myspace.com/LookThunder</td>\n",
              "      <td>0</td>\n",
              "    </tr>\n",
              "    <tr>\n",
              "      <th>...</th>\n",
              "      <td>...</td>\n",
              "      <td>...</td>\n",
              "    </tr>\n",
              "    <tr>\n",
              "      <th>10309</th>\n",
              "      <td>No Depression by G Herbo is my mood from now o...</td>\n",
              "      <td>1</td>\n",
              "    </tr>\n",
              "    <tr>\n",
              "      <th>10310</th>\n",
              "      <td>What do you do when depression succumbs the br...</td>\n",
              "      <td>1</td>\n",
              "    </tr>\n",
              "    <tr>\n",
              "      <th>10311</th>\n",
              "      <td>Ketamine Nasal Spray Shows Promise Against Dep...</td>\n",
              "      <td>1</td>\n",
              "    </tr>\n",
              "    <tr>\n",
              "      <th>10312</th>\n",
              "      <td>dont mistake a bad day with depression! everyo...</td>\n",
              "      <td>1</td>\n",
              "    </tr>\n",
              "    <tr>\n",
              "      <th>10313</th>\n",
              "      <td>0</td>\n",
              "      <td>1</td>\n",
              "    </tr>\n",
              "  </tbody>\n",
              "</table>\n",
              "<p>10314 rows × 2 columns</p>\n",
              "</div>"
            ],
            "text/plain": [
              "                                                    text  polarity\n",
              "0      just had a real good moment. i missssssssss hi...         0\n",
              "1             is reading manga  http://plurk.com/p/mzp1e         0\n",
              "2      @comeagainjen http://twitpic.com/2y2lx - http:...         0\n",
              "3      @lapcat Need to send 'em to my accountant tomo...         0\n",
              "4          ADD ME ON MYSPACE!!!  myspace.com/LookThunder         0\n",
              "...                                                  ...       ...\n",
              "10309  No Depression by G Herbo is my mood from now o...         1\n",
              "10310  What do you do when depression succumbs the br...         1\n",
              "10311  Ketamine Nasal Spray Shows Promise Against Dep...         1\n",
              "10312  dont mistake a bad day with depression! everyo...         1\n",
              "10313                                                  0         1\n",
              "\n",
              "[10314 rows x 2 columns]"
            ]
          },
          "metadata": {},
          "execution_count": 6
        }
      ]
    },
    {
      "cell_type": "code",
      "metadata": {
        "colab": {
          "base_uri": "https://localhost:8080/"
        },
        "id": "29tN9-Fk1pfl",
        "outputId": "cd306ad1-850f-434c-a40f-263904d4c3f4"
      },
      "source": [
        "nltk.download('stopwords')\n",
        "english_stops = set(stopwords.words('english'))\n",
        "nltk.download('punkt')\n",
        "puncset = list(string.punctuation)\n",
        "nltk.download('wordnet')\n",
        "lemmatizer = WordNetLemmatizer()"
      ],
      "execution_count": null,
      "outputs": [
        {
          "output_type": "stream",
          "name": "stdout",
          "text": [
            "[nltk_data] Downloading package stopwords to /root/nltk_data...\n",
            "[nltk_data]   Package stopwords is already up-to-date!\n",
            "[nltk_data] Downloading package punkt to /root/nltk_data...\n",
            "[nltk_data]   Package punkt is already up-to-date!\n",
            "[nltk_data] Downloading package wordnet to /root/nltk_data...\n",
            "[nltk_data]   Package wordnet is already up-to-date!\n"
          ]
        }
      ]
    },
    {
      "cell_type": "code",
      "metadata": {
        "id": "uWpCkB6l12vj"
      },
      "source": [
        "def preprocessed(text):\n",
        "  sentence = [lemmatizer.lemmatize(i, pos='v') for i in text.split() if i not in puncset and i not in english_stops]\n",
        "  sentence = [w for w in sentence if w.isalpha()]\n",
        "  return ' '.join(sentence)"
      ],
      "execution_count": null,
      "outputs": []
    },
    {
      "cell_type": "code",
      "metadata": {
        "id": "ElbFru6i180a"
      },
      "source": [
        "df['text'] = df.text.map(lambda x: preprocessed(x))"
      ],
      "execution_count": null,
      "outputs": []
    },
    {
      "cell_type": "code",
      "metadata": {
        "colab": {
          "base_uri": "https://localhost:8080/"
        },
        "id": "za_6IFby2Wll",
        "outputId": "4832a72b-591f-4034-96a4-a848ab11ed6b"
      },
      "source": [
        "df.text"
      ],
      "execution_count": null,
      "outputs": [
        {
          "output_type": "execute_result",
          "data": {
            "text/plain": [
              "0                                           real good miss\n",
              "1                                               read manga\n",
              "2                                                         \n",
              "3          Need send accountant I even refer Those support\n",
              "4                                                ADD ME ON\n",
              "                               ...                        \n",
              "10309    No Depression G Herbo mood do stress people de...\n",
              "10310    What depression succumb brain make feel like n...\n",
              "10311    Ketamine Nasal Spray Shows Promise Against Sui...\n",
              "10312                        dont mistake bad day everyone\n",
              "10313                                                     \n",
              "Name: text, Length: 10314, dtype: object"
            ]
          },
          "metadata": {},
          "execution_count": 10
        }
      ]
    },
    {
      "cell_type": "code",
      "metadata": {
        "id": "2AiHzUXi2Yfw"
      },
      "source": [
        "sentence_length = []\n",
        "count = Counter()\n",
        "for i in df.text:\n",
        "  temp = i.split()\n",
        "  sentence_length.append(len(temp))\n",
        "  for j in temp:\n",
        "    count[j] += 1"
      ],
      "execution_count": null,
      "outputs": []
    },
    {
      "cell_type": "code",
      "metadata": {
        "colab": {
          "base_uri": "https://localhost:8080/"
        },
        "id": "5cxYMhvT2jY1",
        "outputId": "6e24c3da-aaa4-4411-9d3c-1f1d68bbfe72"
      },
      "source": [
        "num_words = len(count)\n",
        "max_length = max(sentence_length)\n",
        "print('num_words: ',num_words,' max_length: ',max_length)"
      ],
      "execution_count": null,
      "outputs": [
        {
          "output_type": "stream",
          "name": "stdout",
          "text": [
            "num_words:  12895  max_length:  43\n"
          ]
        }
      ]
    },
    {
      "cell_type": "code",
      "metadata": {
        "id": "Oaedjc1-20GQ"
      },
      "source": [
        "from sklearn.model_selection import train_test_split\n",
        "train_text,test_text,train_label,test_label=train_test_split(df['text'],df['polarity'],test_size=0.20,random_state=1)"
      ],
      "execution_count": null,
      "outputs": []
    },
    {
      "cell_type": "code",
      "metadata": {
        "id": "w5hjV5PU3L_S"
      },
      "source": [
        "tokenizer = Tokenizer(num_words=num_words)\n",
        "tokenizer.fit_on_texts(df['text'])\n",
        "word_index = tokenizer.word_index"
      ],
      "execution_count": null,
      "outputs": []
    },
    {
      "cell_type": "code",
      "metadata": {
        "id": "sZM94REZ3fg6"
      },
      "source": [
        "train_text = tokenizer.texts_to_sequences(train_text)\n",
        "test_text = tokenizer.texts_to_sequences(test_text)"
      ],
      "execution_count": null,
      "outputs": []
    },
    {
      "cell_type": "code",
      "metadata": {
        "id": "6pqvwZFo3otJ"
      },
      "source": [
        "train_padding = pad_sequences(\n",
        "    train_text, maxlen=max_length, padding='post', truncating='post'\n",
        ")\n",
        "test_padding = pad_sequences(\n",
        "    test_text, maxlen=max_length, padding='post', truncating='post'\n",
        ")"
      ],
      "execution_count": null,
      "outputs": []
    },
    {
      "cell_type": "code",
      "metadata": {
        "colab": {
          "base_uri": "https://localhost:8080/"
        },
        "id": "SrFCSBb73syx",
        "outputId": "44f11560-cc2e-460b-982e-3d4c30524b1c"
      },
      "source": [
        "print(len(train_padding))\n",
        "print(len(test_padding))"
      ],
      "execution_count": null,
      "outputs": [
        {
          "output_type": "stream",
          "name": "stdout",
          "text": [
            "8251\n",
            "2063\n"
          ]
        }
      ]
    },
    {
      "cell_type": "code",
      "metadata": {
        "colab": {
          "base_uri": "https://localhost:8080/"
        },
        "id": "-lcOouuC3u5Q",
        "outputId": "85ad3aec-fe78-4171-c4f2-bed01e4c325c"
      },
      "source": [
        "#example\n",
        "train_text[0]"
      ],
      "execution_count": null,
      "outputs": [
        {
          "output_type": "execute_result",
          "data": {
            "text/plain": [
              "[13, 1127, 3, 383, 411, 6657]"
            ]
          },
          "metadata": {},
          "execution_count": 18
        }
      ]
    },
    {
      "cell_type": "code",
      "metadata": {
        "colab": {
          "base_uri": "https://localhost:8080/"
        },
        "id": "shhqpVJ-32Ta",
        "outputId": "4fc60757-15fa-4f6d-a7cb-25576513ca3b"
      },
      "source": [
        "#vocabulary\n",
        "tokenizer.word_index"
      ],
      "execution_count": null,
      "outputs": [
        {
          "output_type": "execute_result",
          "data": {
            "text/plain": [
              "{'i': 1,\n",
              " 'depression': 2,\n",
              " 'get': 3,\n",
              " 'go': 4,\n",
              " 'good': 5,\n",
              " 'love': 6,\n",
              " 'like': 7,\n",
              " 'make': 8,\n",
              " 'day': 9,\n",
              " 'know': 10,\n",
              " 'think': 11,\n",
              " 'see': 12,\n",
              " 'time': 13,\n",
              " 'thank': 14,\n",
              " 'u': 15,\n",
              " 'new': 16,\n",
              " 'the': 17,\n",
              " 'one': 18,\n",
              " 'feel': 19,\n",
              " 'lol': 20,\n",
              " 'great': 21,\n",
              " 'work': 22,\n",
              " 'back': 23,\n",
              " 'come': 24,\n",
              " 'take': 25,\n",
              " 'really': 26,\n",
              " 'you': 27,\n",
              " 'im': 28,\n",
              " 'want': 29,\n",
              " 'watch': 30,\n",
              " 'happy': 31,\n",
              " 'need': 32,\n",
              " 'say': 33,\n",
              " 'people': 34,\n",
              " 'much': 35,\n",
              " 'look': 36,\n",
              " 'anxiety': 37,\n",
              " 'today': 38,\n",
              " 'hope': 39,\n",
              " 'my': 40,\n",
              " 'would': 41,\n",
              " 'try': 42,\n",
              " 'well': 43,\n",
              " 'help': 44,\n",
              " 'just': 45,\n",
              " 'and': 46,\n",
              " 'use': 47,\n",
              " 'still': 48,\n",
              " 'last': 49,\n",
              " 'night': 50,\n",
              " 'twitter': 51,\n",
              " 'wait': 52,\n",
              " 'even': 53,\n",
              " 'haha': 54,\n",
              " 'oh': 55,\n",
              " 'never': 56,\n",
              " 'life': 57,\n",
              " 'way': 58,\n",
              " 'gonna': 59,\n",
              " 'give': 60,\n",
              " 'better': 61,\n",
              " 'it': 62,\n",
              " 'nice': 63,\n",
              " 'follow': 64,\n",
              " 'morning': 65,\n",
              " 'hey': 66,\n",
              " 'do': 67,\n",
              " 'right': 68,\n",
              " 'find': 69,\n",
              " 'everyone': 70,\n",
              " 'fun': 71,\n",
              " 'best': 72,\n",
              " 'home': 73,\n",
              " 'start': 74,\n",
              " 'first': 75,\n",
              " 'talk': 76,\n",
              " 'let': 77,\n",
              " 'someone': 78,\n",
              " 'so': 79,\n",
              " 'us': 80,\n",
              " 'eat': 81,\n",
              " 'tell': 82,\n",
              " 'tweet': 83,\n",
              " 'could': 84,\n",
              " 'keep': 85,\n",
              " 'show': 86,\n",
              " 'we': 87,\n",
              " 'how': 88,\n",
              " 'guy': 89,\n",
              " 'thanks': 90,\n",
              " 'mental': 91,\n",
              " 'check': 92,\n",
              " 'please': 93,\n",
              " 'something': 94,\n",
              " 'sure': 95,\n",
              " 'miss': 96,\n",
              " 'enjoy': 97,\n",
              " 'have': 98,\n",
              " 'ready': 99,\n",
              " 'always': 100,\n",
              " 'next': 101,\n",
              " 'read': 102,\n",
              " 'call': 103,\n",
              " 'but': 104,\n",
              " 'sleep': 105,\n",
              " 'things': 106,\n",
              " 'glad': 107,\n",
              " 'face': 108,\n",
              " 'this': 109,\n",
              " 'what': 110,\n",
              " 'ur': 111,\n",
              " 'live': 112,\n",
              " 'long': 113,\n",
              " 'wish': 114,\n",
              " 'is': 115,\n",
              " 'play': 116,\n",
              " 'if': 117,\n",
              " 'bed': 118,\n",
              " 'post': 119,\n",
              " 'bad': 120,\n",
              " 'may': 121,\n",
              " 'tomorrow': 122,\n",
              " 'real': 123,\n",
              " 'listen': 124,\n",
              " 'lot': 125,\n",
              " 'hear': 126,\n",
              " 'every': 127,\n",
              " 'cause': 128,\n",
              " 'not': 129,\n",
              " 'that': 130,\n",
              " 'leave': 131,\n",
              " 'thing': 132,\n",
              " 'a': 133,\n",
              " 'pretty': 134,\n",
              " 'ever': 135,\n",
              " 'little': 136,\n",
              " 'yeah': 137,\n",
              " 'awesome': 138,\n",
              " 'maybe': 139,\n",
              " 'friends': 140,\n",
              " 'another': 141,\n",
              " 'days': 142,\n",
              " 'many': 143,\n",
              " 'finally': 144,\n",
              " 'fuck': 145,\n",
              " 'big': 146,\n",
              " 'cure': 147,\n",
              " 'cool': 148,\n",
              " 'suffer': 149,\n",
              " 'school': 150,\n",
              " 'stop': 151,\n",
              " 'also': 152,\n",
              " 'buy': 153,\n",
              " 'actually': 154,\n",
              " 'hard': 155,\n",
              " 'world': 156,\n",
              " 'ok': 157,\n",
              " 'x': 158,\n",
              " 'mean': 159,\n",
              " 'nothing': 160,\n",
              " 'excite': 161,\n",
              " 'around': 162,\n",
              " 'on': 163,\n",
              " 'wanna': 164,\n",
              " 'sun': 165,\n",
              " 'song': 166,\n",
              " 'weekend': 167,\n",
              " 'already': 168,\n",
              " 'hit': 169,\n",
              " 'beautiful': 170,\n",
              " 'no': 171,\n",
              " 'amaze': 172,\n",
              " 'add': 173,\n",
              " 'two': 174,\n",
              " 'music': 175,\n",
              " 'god': 176,\n",
              " 'write': 177,\n",
              " 'house': 178,\n",
              " 'meet': 179,\n",
              " 'hi': 180,\n",
              " 'might': 181,\n",
              " 'in': 182,\n",
              " 'via': 183,\n",
              " 'cry': 184,\n",
              " 'dont': 185,\n",
              " 'end': 186,\n",
              " 'tonight': 187,\n",
              " 'week': 188,\n",
              " 'study': 189,\n",
              " 'n': 190,\n",
              " 'though': 191,\n",
              " 'yes': 192,\n",
              " 'sound': 193,\n",
              " 'at': 194,\n",
              " 'care': 195,\n",
              " 'almost': 196,\n",
              " 'to': 197,\n",
              " 'send': 198,\n",
              " 'year': 199,\n",
              " 'friend': 200,\n",
              " 'put': 201,\n",
              " 'wake': 202,\n",
              " 'happen': 203,\n",
              " 'game': 204,\n",
              " 'bring': 205,\n",
              " 'person': 206,\n",
              " 'least': 207,\n",
              " 'cant': 208,\n",
              " 'drink': 209,\n",
              " 'lose': 210,\n",
              " 'free': 211,\n",
              " 'old': 212,\n",
              " 'ya': 213,\n",
              " 'now': 214,\n",
              " 'health': 215,\n",
              " 'stay': 216,\n",
              " 'ask': 217,\n",
              " 'sorry': 218,\n",
              " 'hours': 219,\n",
              " 'movie': 220,\n",
              " 'head': 221,\n",
              " 'struggle': 222,\n",
              " 'job': 223,\n",
              " 'birthday': 224,\n",
              " 'thats': 225,\n",
              " 'stuff': 226,\n",
              " 'shit': 227,\n",
              " 'man': 228,\n",
              " 'pay': 229,\n",
              " 'learn': 230,\n",
              " 'totally': 231,\n",
              " 'anyone': 232,\n",
              " 'deal': 233,\n",
              " 'summer': 234,\n",
              " 'since': 235,\n",
              " 'your': 236,\n",
              " 'bite': 237,\n",
              " 'away': 238,\n",
              " 'support': 239,\n",
              " 'later': 240,\n",
              " 'forget': 241,\n",
              " 'guess': 242,\n",
              " 'years': 243,\n",
              " 'going': 244,\n",
              " 'for': 245,\n",
              " 'turn': 246,\n",
              " 'break': 247,\n",
              " 'till': 248,\n",
              " 'hand': 249,\n",
              " 'hello': 250,\n",
              " 'book': 251,\n",
              " 'its': 252,\n",
              " 'family': 253,\n",
              " 'finish': 254,\n",
              " 'me': 255,\n",
              " 'fight': 256,\n",
              " 'hate': 257,\n",
              " 'run': 258,\n",
              " 'all': 259,\n",
              " 'xx': 260,\n",
              " 'video': 261,\n",
              " 'remember': 262,\n",
              " 'saw': 263,\n",
              " 'join': 264,\n",
              " 'they': 265,\n",
              " 'nap': 266,\n",
              " 'girl': 267,\n",
              " 'will': 268,\n",
              " 'watching': 269,\n",
              " 'party': 270,\n",
              " 'without': 271,\n",
              " 'sign': 272,\n",
              " 'food': 273,\n",
              " 'soon': 274,\n",
              " 'mom': 275,\n",
              " 'yay': 276,\n",
              " 'smile': 277,\n",
              " 'sweet': 278,\n",
              " 'early': 279,\n",
              " 'forward': 280,\n",
              " 'change': 281,\n",
              " 'when': 282,\n",
              " 'share': 283,\n",
              " 'whole': 284,\n",
              " 'risk': 285,\n",
              " 'everything': 286,\n",
              " 'cute': 287,\n",
              " 'place': 288,\n",
              " 'welcome': 289,\n",
              " 'plan': 290,\n",
              " 'kid': 291,\n",
              " 'seem': 292,\n",
              " 'stress': 293,\n",
              " 'mind': 294,\n",
              " 'anything': 295,\n",
              " 'got': 296,\n",
              " 'hair': 297,\n",
              " 'train': 298,\n",
              " 'win': 299,\n",
              " 'sit': 300,\n",
              " 'shop': 301,\n",
              " 'she': 302,\n",
              " 'part': 303,\n",
              " 'reason': 304,\n",
              " 'goodnight': 305,\n",
              " 'open': 306,\n",
              " 'hot': 307,\n",
              " 'believe': 308,\n",
              " 'enough': 309,\n",
              " 'drive': 310,\n",
              " 'rain': 311,\n",
              " 'why': 312,\n",
              " 'baby': 313,\n",
              " 'quite': 314,\n",
              " 'lovely': 315,\n",
              " 'must': 316,\n",
              " 'followers': 317,\n",
              " 'funny': 318,\n",
              " 'cut': 319,\n",
              " 'experience': 320,\n",
              " 'dinner': 321,\n",
              " 'tie': 322,\n",
              " 'blog': 323,\n",
              " 'red': 324,\n",
              " 'ill': 325,\n",
              " 'spend': 326,\n",
              " 'up': 327,\n",
              " 'move': 328,\n",
              " 'he': 329,\n",
              " 'with': 330,\n",
              " 'luck': 331,\n",
              " 'else': 332,\n",
              " 'exercise': 333,\n",
              " 'wow': 334,\n",
              " 'definitely': 335,\n",
              " 'weather': 336,\n",
              " 'picture': 337,\n",
              " 'fan': 338,\n",
              " 'link': 339,\n",
              " 'update': 340,\n",
              " 'phone': 341,\n",
              " 'speak': 342,\n",
              " 'interest': 343,\n",
              " 'probably': 344,\n",
              " 'social': 345,\n",
              " 'june': 346,\n",
              " 'r': 347,\n",
              " 'sad': 348,\n",
              " 'coffee': 349,\n",
              " 'late': 350,\n",
              " 'pic': 351,\n",
              " 'understand': 352,\n",
              " 'sunday': 353,\n",
              " 'of': 354,\n",
              " 'gotta': 355,\n",
              " 'ass': 356,\n",
              " 'idea': 357,\n",
              " 'development': 358,\n",
              " 'skin': 359,\n",
              " 'loudly': 360,\n",
              " 'busy': 361,\n",
              " 'more': 362,\n",
              " 'wonder': 363,\n",
              " 'visit': 364,\n",
              " 'rest': 365,\n",
              " 'decide': 366,\n",
              " 'friday': 367,\n",
              " 'tear': 368,\n",
              " 'set': 369,\n",
              " 'lmao': 370,\n",
              " 'can': 371,\n",
              " 'save': 372,\n",
              " 'crazy': 373,\n",
              " 'are': 374,\n",
              " 'vote': 375,\n",
              " 'had': 376,\n",
              " 'walk': 377,\n",
              " 'hopefully': 378,\n",
              " 'dream': 379,\n",
              " 'bout': 380,\n",
              " 'name': 381,\n",
              " 'fall': 382,\n",
              " 'outside': 383,\n",
              " 'super': 384,\n",
              " 'omg': 385,\n",
              " 'email': 386,\n",
              " 'mine': 387,\n",
              " 'class': 388,\n",
              " 'point': 389,\n",
              " 'suicide': 390,\n",
              " 'illness': 391,\n",
              " 'intellectual': 392,\n",
              " 'wear': 393,\n",
              " 'laugh': 394,\n",
              " 'trip': 395,\n",
              " 'tire': 396,\n",
              " 'deserve': 397,\n",
              " 'rock': 398,\n",
              " 'pick': 399,\n",
              " 'okay': 400,\n",
              " 'mother': 401,\n",
              " 'easy': 402,\n",
              " 'as': 403,\n",
              " 'severe': 404,\n",
              " 'able': 405,\n",
              " 'worth': 406,\n",
              " 'favorite': 407,\n",
              " 'appreciate': 408,\n",
              " 'especially': 409,\n",
              " 'fix': 410,\n",
              " 'yet': 411,\n",
              " 'self': 412,\n",
              " 'side': 413,\n",
              " 'second': 414,\n",
              " 'full': 415,\n",
              " 'mood': 416,\n",
              " 'thoughts': 417,\n",
              " 'lead': 418,\n",
              " 'once': 419,\n",
              " 'room': 420,\n",
              " 'am': 421,\n",
              " 'word': 422,\n",
              " 'congrats': 423,\n",
              " 'catch': 424,\n",
              " 'sing': 425,\n",
              " 'hahaha': 426,\n",
              " 'damn': 427,\n",
              " 'monday': 428,\n",
              " 'album': 429,\n",
              " 'kind': 430,\n",
              " 'off': 431,\n",
              " 'saturday': 432,\n",
              " 'symptoms': 433,\n",
              " 'ha': 434,\n",
              " 'there': 435,\n",
              " 'true': 436,\n",
              " 'pass': 437,\n",
              " 'children': 438,\n",
              " 'state': 439,\n",
              " 'beat': 440,\n",
              " 'car': 441,\n",
              " 'only': 442,\n",
              " 'hang': 443,\n",
              " 'worry': 444,\n",
              " 'become': 445,\n",
              " 'yesterday': 446,\n",
              " 'kinda': 447,\n",
              " 'past': 448,\n",
              " 'dark': 449,\n",
              " 'far': 450,\n",
              " 'cold': 451,\n",
              " 'money': 452,\n",
              " 'treat': 453,\n",
              " 'heart': 454,\n",
              " 'brain': 455,\n",
              " 'ice': 456,\n",
              " 'hurt': 457,\n",
              " 'course': 458,\n",
              " 'die': 459,\n",
              " 'cook': 460,\n",
              " 'b': 461,\n",
              " 'concert': 462,\n",
              " 'heavy': 463,\n",
              " 'bitch': 464,\n",
              " 'smiling': 465,\n",
              " 'top': 466,\n",
              " 'reply': 467,\n",
              " 'bless': 468,\n",
              " 'having': 469,\n",
              " 'low': 470,\n",
              " 'be': 471,\n",
              " 'lunch': 472,\n",
              " 'wed': 473,\n",
              " 'kill': 474,\n",
              " 'didnt': 475,\n",
              " 'relax': 476,\n",
              " 'sometimes': 477,\n",
              " 'depress': 478,\n",
              " 'sooo': 479,\n",
              " 'wonderful': 480,\n",
              " 'getting': 481,\n",
              " 'recommend': 482,\n",
              " 'black': 483,\n",
              " 'worst': 484,\n",
              " 'joke': 485,\n",
              " 'therapy': 486,\n",
              " 'disorder': 487,\n",
              " 'shower': 488,\n",
              " 'record': 489,\n",
              " 'wrong': 490,\n",
              " 'kick': 491,\n",
              " 'clean': 492,\n",
              " 'lucky': 493,\n",
              " 'star': 494,\n",
              " 'type': 495,\n",
              " 'research': 496,\n",
              " 'chance': 497,\n",
              " 'ppl': 498,\n",
              " 'deep': 499,\n",
              " 'blue': 500,\n",
              " 'stick': 501,\n",
              " 'battle': 502,\n",
              " 'white': 503,\n",
              " 'pack': 504,\n",
              " 'girls': 505,\n",
              " 'online': 506,\n",
              " 'vip': 507,\n",
              " 'drug': 508,\n",
              " 'chronic': 509,\n",
              " 'number': 510,\n",
              " 'page': 511,\n",
              " 'positive': 512,\n",
              " 'band': 513,\n",
              " 'dog': 514,\n",
              " 'light': 515,\n",
              " 'answer': 516,\n",
              " 'fact': 517,\n",
              " 'half': 518,\n",
              " 'hehe': 519,\n",
              " 'cat': 520,\n",
              " 'breakfast': 521,\n",
              " 'anyway': 522,\n",
              " 'hell': 523,\n",
              " 'did': 524,\n",
              " 'college': 525,\n",
              " 'high': 526,\n",
              " 'movies': 527,\n",
              " 'glass': 528,\n",
              " 'proud': 529,\n",
              " 'cuz': 530,\n",
              " 'xd': 531,\n",
              " 'issue': 532,\n",
              " 'bc': 533,\n",
              " 'pain': 534,\n",
              " 'ago': 535,\n",
              " 'figure': 536,\n",
              " 'serious': 537,\n",
              " 'ease': 538,\n",
              " 'offer': 539,\n",
              " 'here': 540,\n",
              " 'afternoon': 541,\n",
              " 'was': 542,\n",
              " 'realize': 543,\n",
              " 'question': 544,\n",
              " 'honestly': 545,\n",
              " 'avoid': 546,\n",
              " 'felt': 547,\n",
              " 'order': 548,\n",
              " 'attack': 549,\n",
              " 'major': 550,\n",
              " 'include': 551,\n",
              " 'cripple': 552,\n",
              " 'develop': 553,\n",
              " 'xoxo': 554,\n",
              " 'facebook': 555,\n",
              " 'sunny': 556,\n",
              " 'goin': 557,\n",
              " 'beach': 558,\n",
              " 'safe': 559,\n",
              " 'promise': 560,\n",
              " 'together': 561,\n",
              " 'short': 562,\n",
              " 'luv': 563,\n",
              " 'story': 564,\n",
              " 'la': 565,\n",
              " 'hug': 566,\n",
              " 'or': 567,\n",
              " 'perfect': 568,\n",
              " 'then': 569,\n",
              " 'along': 570,\n",
              " 'exactly': 571,\n",
              " 'site': 572,\n",
              " 'power': 573,\n",
              " 'others': 574,\n",
              " 'songs': 575,\n",
              " 'war': 576,\n",
              " 'tv': 577,\n",
              " 'bipolar': 578,\n",
              " 'suicidal': 579,\n",
              " 'cannabis': 580,\n",
              " 'looking': 581,\n",
              " 'weeks': 582,\n",
              " 'dance': 583,\n",
              " 'less': 584,\n",
              " 'business': 585,\n",
              " 'single': 586,\n",
              " 'fly': 587,\n",
              " 'parent': 588,\n",
              " 'comment': 589,\n",
              " 'men': 590,\n",
              " 'ones': 591,\n",
              " 'pray': 592,\n",
              " 'fit': 593,\n",
              " 'tea': 594,\n",
              " 'poor': 595,\n",
              " 'bore': 596,\n",
              " 'boy': 597,\n",
              " 'message': 598,\n",
              " 'about': 599,\n",
              " 'three': 600,\n",
              " 'very': 601,\n",
              " 'jonas': 602,\n",
              " 'matter': 603,\n",
              " 'test': 604,\n",
              " 'soo': 605,\n",
              " 'whatever': 606,\n",
              " 'suck': 607,\n",
              " 'drop': 608,\n",
              " 'team': 609,\n",
              " 'age': 610,\n",
              " 'instead': 611,\n",
              " 'til': 612,\n",
              " 'hold': 613,\n",
              " 'season': 614,\n",
              " 'huge': 615,\n",
              " 'btw': 616,\n",
              " 'film': 617,\n",
              " 'dad': 618,\n",
              " 'fine': 619,\n",
              " 'everybody': 620,\n",
              " 'bom': 621,\n",
              " 'body': 622,\n",
              " 'news': 623,\n",
              " 'step': 624,\n",
              " 'doctor': 625,\n",
              " 'chat': 626,\n",
              " 'after': 627,\n",
              " 'design': 628,\n",
              " 'due': 629,\n",
              " 'episode': 630,\n",
              " 'water': 631,\n",
              " 'who': 632,\n",
              " 'remind': 633,\n",
              " 'hop': 634,\n",
              " 'list': 635,\n",
              " 'cannot': 636,\n",
              " 'some': 637,\n",
              " 'interview': 638,\n",
              " 'rt': 639,\n",
              " 'death': 640,\n",
              " 'nite': 641,\n",
              " 'create': 642,\n",
              " 'miley': 643,\n",
              " 'xxx': 644,\n",
              " 'tho': 645,\n",
              " 'clear': 646,\n",
              " 'case': 647,\n",
              " 'suggest': 648,\n",
              " 'often': 649,\n",
              " 'increase': 650,\n",
              " 'cover': 651,\n",
              " 'garden': 652,\n",
              " 'piece': 653,\n",
              " 'stupid': 654,\n",
              " 'hour': 655,\n",
              " 'rise': 656,\n",
              " 'problem': 657,\n",
              " 'brothers': 658,\n",
              " 'guitar': 659,\n",
              " 'shall': 660,\n",
              " 'young': 661,\n",
              " 'our': 662,\n",
              " 'manage': 663,\n",
              " 'text': 664,\n",
              " 'sort': 665,\n",
              " 'months': 666,\n",
              " 'raise': 667,\n",
              " 'daily': 668,\n",
              " 'relate': 669,\n",
              " 'heal': 670,\n",
              " 'affect': 671,\n",
              " 'problems': 672,\n",
              " 'either': 673,\n",
              " 'literally': 674,\n",
              " 'contact': 675,\n",
              " 'agree': 676,\n",
              " 'da': 677,\n",
              " 'aww': 678,\n",
              " 'dress': 679,\n",
              " 'seriously': 680,\n",
              " 'close': 681,\n",
              " 'cos': 682,\n",
              " 'july': 683,\n",
              " 'nights': 684,\n",
              " 'ah': 685,\n",
              " 'weight': 686,\n",
              " 'choose': 687,\n",
              " 'account': 688,\n",
              " 'wont': 689,\n",
              " 'mix': 690,\n",
              " 'panic': 691,\n",
              " 'push': 692,\n",
              " 'chill': 693,\n",
              " 'sick': 694,\n",
              " 'office': 695,\n",
              " 'media': 696,\n",
              " 'dm': 697,\n",
              " 'park': 698,\n",
              " 'absolutely': 699,\n",
              " 'lower': 700,\n",
              " 'attention': 701,\n",
              " 'million': 702,\n",
              " 'addiction': 703,\n",
              " 'teens': 704,\n",
              " 'physical': 705,\n",
              " 'awww': 706,\n",
              " 'admit': 707,\n",
              " 'level': 708,\n",
              " 'myspace': 709,\n",
              " 'result': 710,\n",
              " 'thx': 711,\n",
              " 'road': 712,\n",
              " 'sounds': 713,\n",
              " 'beer': 714,\n",
              " 'truly': 715,\n",
              " 'teach': 716,\n",
              " 'bday': 717,\n",
              " 'green': 718,\n",
              " 'build': 719,\n",
              " 'awake': 720,\n",
              " 'surprise': 721,\n",
              " 'blame': 722,\n",
              " 'suppose': 723,\n",
              " 'longer': 724,\n",
              " 'pls': 725,\n",
              " 'special': 726,\n",
              " 'been': 727,\n",
              " 'out': 728,\n",
              " 'city': 729,\n",
              " 'holiday': 730,\n",
              " 'continue': 731,\n",
              " 'fill': 732,\n",
              " 'tour': 733,\n",
              " 'w': 734,\n",
              " 'podcast': 735,\n",
              " 'personal': 736,\n",
              " 'explain': 737,\n",
              " 'month': 738,\n",
              " 'effect': 739,\n",
              " 'by': 740,\n",
              " 'lakers': 741,\n",
              " 'mouth': 742,\n",
              " 'nobody': 743,\n",
              " 'woman': 744,\n",
              " 'trigger': 745,\n",
              " 'relationship': 746,\n",
              " 'women': 747,\n",
              " 'important': 748,\n",
              " 'clinical': 749,\n",
              " 'diagnose': 750,\n",
              " 'prevent': 751,\n",
              " 'medication': 752,\n",
              " 'track': 753,\n",
              " 'website': 754,\n",
              " 'moon': 755,\n",
              " 'roll': 756,\n",
              " 'paint': 757,\n",
              " 'moment': 758,\n",
              " 'different': 759,\n",
              " 'trouble': 760,\n",
              " 'couple': 761,\n",
              " 'smoke': 762,\n",
              " 'where': 763,\n",
              " 'dude': 764,\n",
              " 'date': 765,\n",
              " 'def': 766,\n",
              " 'ticket': 767,\n",
              " 'photo': 768,\n",
              " 'fantastic': 769,\n",
              " 'whats': 770,\n",
              " 'art': 771,\n",
              " 'internet': 772,\n",
              " 'web': 773,\n",
              " 'line': 774,\n",
              " 'round': 775,\n",
              " 'mention': 776,\n",
              " 'accept': 777,\n",
              " 'lil': 778,\n",
              " 'force': 779,\n",
              " 'ride': 780,\n",
              " 'worse': 781,\n",
              " 'group': 782,\n",
              " 'eye': 783,\n",
              " 'shoot': 784,\n",
              " 'because': 785,\n",
              " 'smell': 786,\n",
              " 'pull': 787,\n",
              " 'yall': 788,\n",
              " 'etc': 789,\n",
              " 'behind': 790,\n",
              " 'article': 791,\n",
              " 'listening': 792,\n",
              " 'lack': 793,\n",
              " 'trying': 794,\n",
              " 'idk': 795,\n",
              " 'grow': 796,\n",
              " 'term': 797,\n",
              " 'imagine': 798,\n",
              " 'medical': 799,\n",
              " 'woo': 800,\n",
              " 'touch': 801,\n",
              " 'congratulations': 802,\n",
              " 'sunshine': 803,\n",
              " 'asleep': 804,\n",
              " 'upload': 805,\n",
              " 'project': 806,\n",
              " 'computer': 807,\n",
              " 'front': 808,\n",
              " 'nearly': 809,\n",
              " 'rid': 810,\n",
              " 'cream': 811,\n",
              " 'pop': 812,\n",
              " 'rather': 813,\n",
              " 'bear': 814,\n",
              " 'market': 815,\n",
              " 'process': 816,\n",
              " 'boys': 817,\n",
              " 'service': 818,\n",
              " 'hat': 819,\n",
              " 'history': 820,\n",
              " 'from': 821,\n",
              " 'mothers': 822,\n",
              " 'act': 823,\n",
              " 'view': 824,\n",
              " 'strong': 825,\n",
              " 'normal': 826,\n",
              " 'doubt': 827,\n",
              " 'cake': 828,\n",
              " 'quit': 829,\n",
              " 'discuss': 830,\n",
              " 'ruin': 831,\n",
              " 'control': 832,\n",
              " 'lonely': 833,\n",
              " 'alone': 834,\n",
              " 'sex': 835,\n",
              " 'reduce': 836,\n",
              " 'weary': 837,\n",
              " 'lady': 838,\n",
              " 'bank': 839,\n",
              " 'cross': 840,\n",
              " 'too': 841,\n",
              " 'sister': 842,\n",
              " 'fresh': 843,\n",
              " 'model': 844,\n",
              " 'mad': 845,\n",
              " 'finger': 846,\n",
              " 'london': 847,\n",
              " 'card': 848,\n",
              " 'usually': 849,\n",
              " 'bet': 850,\n",
              " 'playlist': 851,\n",
              " 'alot': 852,\n",
              " 'iphone': 853,\n",
              " 'arrive': 854,\n",
              " 'unless': 855,\n",
              " 'double': 856,\n",
              " 'bar': 857,\n",
              " 'greatest': 858,\n",
              " 'david': 859,\n",
              " 'radio': 860,\n",
              " 'peace': 861,\n",
              " 'color': 862,\n",
              " 'doing': 863,\n",
              " 'hide': 864,\n",
              " 'mtv': 865,\n",
              " 'search': 866,\n",
              " 'soooo': 867,\n",
              " 'fat': 868,\n",
              " 'secret': 869,\n",
              " 'improve': 870,\n",
              " 'shake': 871,\n",
              " 'final': 872,\n",
              " 'hows': 873,\n",
              " 'tom': 874,\n",
              " 'actual': 875,\n",
              " 'pink': 876,\n",
              " 'joy': 877,\n",
              " 'entire': 878,\n",
              " 'south': 879,\n",
              " 'small': 880,\n",
              " 'dear': 881,\n",
              " 'pool': 882,\n",
              " 'ive': 883,\n",
              " 'trust': 884,\n",
              " 'most': 885,\n",
              " 'swim': 886,\n",
              " 'child': 887,\n",
              " 'condition': 888,\n",
              " 'exercising': 889,\n",
              " 'regularly': 890,\n",
              " 'overcome': 891,\n",
              " 'em': 892,\n",
              " 'voice': 893,\n",
              " 'havent': 894,\n",
              " 'notice': 895,\n",
              " 'finished': 896,\n",
              " 'beyond': 897,\n",
              " 'massive': 898,\n",
              " 'street': 899,\n",
              " 'mall': 900,\n",
              " 'app': 901,\n",
              " 'perhaps': 902,\n",
              " 'cheer': 903,\n",
              " 'heading': 904,\n",
              " 'ways': 905,\n",
              " 'town': 906,\n",
              " 'energy': 907,\n",
              " 'yo': 908,\n",
              " 'straight': 909,\n",
              " 'annoy': 910,\n",
              " 'aw': 911,\n",
              " 'difficult': 912,\n",
              " 'wall': 913,\n",
              " 'fast': 914,\n",
              " 'middle': 915,\n",
              " 'bright': 916,\n",
              " 'uk': 917,\n",
              " 'bike': 918,\n",
              " 'graduation': 919,\n",
              " 'wine': 920,\n",
              " 'cd': 921,\n",
              " 'youtube': 922,\n",
              " 'hahahaha': 923,\n",
              " 'minutes': 924,\n",
              " 'inspire': 925,\n",
              " 'fake': 926,\n",
              " 'fully': 927,\n",
              " 'challenge': 928,\n",
              " 'playing': 929,\n",
              " 'aint': 930,\n",
              " 'base': 931,\n",
              " 'fav': 932,\n",
              " 'carry': 933,\n",
              " 'consider': 934,\n",
              " 'amazing': 935,\n",
              " 'sims': 936,\n",
              " 'working': 937,\n",
              " 'bother': 938,\n",
              " 'lift': 939,\n",
              " 'shoe': 940,\n",
              " 'involve': 941,\n",
              " 'focus': 942,\n",
              " 'gay': 943,\n",
              " 'allow': 944,\n",
              " 'lay': 945,\n",
              " 'spread': 946,\n",
              " 'wild': 947,\n",
              " 'human': 948,\n",
              " 'should': 949,\n",
              " 'drag': 950,\n",
              " 'stand': 951,\n",
              " 'currently': 952,\n",
              " 'scar': 953,\n",
              " 'exam': 954,\n",
              " 'brother': 955,\n",
              " 'making': 956,\n",
              " 'note': 957,\n",
              " 'spot': 958,\n",
              " 'session': 959,\n",
              " 'whether': 960,\n",
              " 'highly': 961,\n",
              " 'higher': 962,\n",
              " 'meds': 963,\n",
              " 'treatment': 964,\n",
              " 'harm': 965,\n",
              " 'decrease': 966,\n",
              " 'rn': 967,\n",
              " 'researchers': 968,\n",
              " 'patients': 969,\n",
              " 'those': 970,\n",
              " 'background': 971,\n",
              " 'modern': 972,\n",
              " 'bunch': 973,\n",
              " 'older': 974,\n",
              " 'pm': 975,\n",
              " 'any': 976,\n",
              " 'excellent': 977,\n",
              " 'looks': 978,\n",
              " 'weird': 979,\n",
              " 'church': 980,\n",
              " 'wife': 981,\n",
              " 'twit': 982,\n",
              " 'hahah': 983,\n",
              " 'waste': 984,\n",
              " 'pizza': 985,\n",
              " 'burn': 986,\n",
              " 'fell': 987,\n",
              " 'mum': 988,\n",
              " 'bbq': 989,\n",
              " 'air': 990,\n",
              " 'c': 991,\n",
              " 'present': 992,\n",
              " 'chocolate': 993,\n",
              " 'mac': 994,\n",
              " 'bag': 995,\n",
              " 'nervous': 996,\n",
              " 'prefer': 997,\n",
              " 'terrible': 998,\n",
              " 'draw': 999,\n",
              " 'camera': 1000,\n",
              " ...}"
            ]
          },
          "metadata": {},
          "execution_count": 19
        }
      ]
    },
    {
      "cell_type": "code",
      "metadata": {
        "colab": {
          "base_uri": "https://localhost:8080/"
        },
        "id": "JtDPH-eLElmK",
        "outputId": "7a879c5e-f4e3-49ca-9ef6-0e9613df64e0"
      },
      "source": [
        "#vocabulary_length\n",
        "print(len(tokenizer.word_index))"
      ],
      "execution_count": null,
      "outputs": [
        {
          "output_type": "stream",
          "name": "stdout",
          "text": [
            "10510\n"
          ]
        }
      ]
    },
    {
      "cell_type": "code",
      "metadata": {
        "colab": {
          "base_uri": "https://localhost:8080/"
        },
        "id": "IcMstTLg4KlO",
        "outputId": "0446d65a-3789-4e17-f88b-d56b00b41086"
      },
      "source": [
        "train_padding.shape"
      ],
      "execution_count": null,
      "outputs": [
        {
          "output_type": "execute_result",
          "data": {
            "text/plain": [
              "(8251, 43)"
            ]
          },
          "metadata": {},
          "execution_count": 21
        }
      ]
    },
    {
      "cell_type": "code",
      "metadata": {
        "colab": {
          "base_uri": "https://localhost:8080/"
        },
        "id": "3lqXm4484fHp",
        "outputId": "8a70dadc-cb31-4806-a338-d47075fb2587"
      },
      "source": [
        "test_padding.shape"
      ],
      "execution_count": null,
      "outputs": [
        {
          "output_type": "execute_result",
          "data": {
            "text/plain": [
              "(2063, 43)"
            ]
          },
          "metadata": {},
          "execution_count": 22
        }
      ]
    },
    {
      "cell_type": "code",
      "metadata": {
        "colab": {
          "base_uri": "https://localhost:8080/"
        },
        "id": "00X_rOfY4oFw",
        "outputId": "ddefa4d1-a135-419b-9cef-950fb46df38c"
      },
      "source": [
        "train_padding[0]"
      ],
      "execution_count": null,
      "outputs": [
        {
          "output_type": "execute_result",
          "data": {
            "text/plain": [
              "array([  13, 1127,    3,  383,  411, 6657,    0,    0,    0,    0,    0,\n",
              "          0,    0,    0,    0,    0,    0,    0,    0,    0,    0,    0,\n",
              "          0,    0,    0,    0,    0,    0,    0,    0,    0,    0,    0,\n",
              "          0,    0,    0,    0,    0,    0,    0,    0,    0,    0],\n",
              "      dtype=int32)"
            ]
          },
          "metadata": {},
          "execution_count": 23
        }
      ]
    },
    {
      "cell_type": "code",
      "metadata": {
        "colab": {
          "base_uri": "https://localhost:8080/"
        },
        "id": "kt3IDeFK4xfx",
        "outputId": "9a2ccfc5-6b6e-458a-c8e1-302aa44a5055"
      },
      "source": [
        "test_padding[0]"
      ],
      "execution_count": null,
      "outputs": [
        {
          "output_type": "execute_result",
          "data": {
            "text/plain": [
              "array([   6, 2688, 1205, 1376,    2, 8906,  128,  195,   35,    0,    0,\n",
              "          0,    0,    0,    0,    0,    0,    0,    0,    0,    0,    0,\n",
              "          0,    0,    0,    0,    0,    0,    0,    0,    0,    0,    0,\n",
              "          0,    0,    0,    0,    0,    0,    0,    0,    0,    0],\n",
              "      dtype=int32)"
            ]
          },
          "metadata": {},
          "execution_count": 24
        }
      ]
    },
    {
      "cell_type": "code",
      "metadata": {
        "id": "Mh3AOVf06E8z"
      },
      "source": [
        "#inverse tokenizer\n",
        "\n",
        "idx = tokenizer.word_index\n",
        "inverse_map = dict(zip(idx.values(), idx.keys()))"
      ],
      "execution_count": null,
      "outputs": []
    },
    {
      "cell_type": "code",
      "metadata": {
        "id": "g971i52t6KVq"
      },
      "source": [
        "def tokens_to_string(tokens):\n",
        "    # Map from tokens back to words.\n",
        "    words = [inverse_map[token] for token in tokens if token != 0]\n",
        "    \n",
        "    # Concatenate all words.\n",
        "    text = \" \".join(words)\n",
        "\n",
        "    return text"
      ],
      "execution_count": null,
      "outputs": []
    },
    {
      "cell_type": "code",
      "metadata": {
        "colab": {
          "base_uri": "https://localhost:8080/"
        },
        "id": "PYl60zHe5OZX",
        "outputId": "dd40d77c-a497-4e30-ffa4-bfc3c879c6b7"
      },
      "source": [
        "train_text[0]"
      ],
      "execution_count": null,
      "outputs": [
        {
          "output_type": "execute_result",
          "data": {
            "text/plain": [
              "[13, 1127, 3, 383, 411, 6657]"
            ]
          },
          "metadata": {},
          "execution_count": 27
        }
      ]
    },
    {
      "cell_type": "code",
      "metadata": {
        "colab": {
          "base_uri": "https://localhost:8080/",
          "height": 35
        },
        "id": "TpMkPBcO5U0w",
        "outputId": "20f8afd6-2c80-4b39-9a5f-3b32135c394e"
      },
      "source": [
        "tokens_to_string(train_text[0])"
      ],
      "execution_count": null,
      "outputs": [
        {
          "output_type": "execute_result",
          "data": {
            "application/vnd.google.colaboratory.intrinsic+json": {
              "type": "string"
            },
            "text/plain": [
              "'time taste get outside yet antonio'"
            ]
          },
          "metadata": {},
          "execution_count": 28
        }
      ]
    },
    {
      "cell_type": "code",
      "metadata": {
        "id": "9AENygLbC6Sb"
      },
      "source": [
        "import tensorflow as tf\n",
        "import keras\n",
        "METRICS = [\n",
        "      tf.keras.metrics.BinaryAccuracy(name='accuracy'),\n",
        "      tf.keras.metrics.Precision(name='precision'),\n",
        "      tf.keras.metrics.Recall(name='recall'),  \n",
        "      tf.keras.metrics.AUC(name='auc'),\n",
        "]"
      ],
      "execution_count": null,
      "outputs": []
    },
    {
      "cell_type": "code",
      "metadata": {
        "id": "WlB4Y9Np9YHA"
      },
      "source": [
        "#creating the model\n",
        "\n",
        "model = Sequential()\n",
        "embedding_size = 128\n",
        "model.add(Embedding(input_dim=num_words,\n",
        "                    output_dim=embedding_size,\n",
        "                    input_length=max_length,\n",
        "                    name='layer_embedding'))\n",
        "model.add(Bidirectional(tf.keras.layers.SimpleRNN(256, return_sequences=True)))\n",
        "model.add(Bidirectional(tf.keras.layers.SimpleRNN(128, return_sequences=True)))\n",
        "model.add(Bidirectional(tf.keras.layers.SimpleRNN(64)))\n",
        "model.add(Dense(256, activation='relu'))\n",
        "model.add(Dropout(0.5))\n",
        "model.add(Dense(1, activation='sigmoid'))"
      ],
      "execution_count": null,
      "outputs": []
    },
    {
      "cell_type": "code",
      "metadata": {
        "id": "mOzmYdpMCk4-"
      },
      "source": [
        "model.compile(optimizer=tf.keras.optimizers.Adam(learning_rate = 0.001),\n",
        "                loss=tf.keras.losses.BinaryCrossentropy(),\n",
        "                metrics=METRICS)"
      ],
      "execution_count": null,
      "outputs": []
    },
    {
      "cell_type": "code",
      "metadata": {
        "colab": {
          "base_uri": "https://localhost:8080/"
        },
        "id": "7V1wRUG6IhL7",
        "outputId": "6106bc05-0b71-4ca4-9fdf-8e9b89e2d8de"
      },
      "source": [
        "model.summary()"
      ],
      "execution_count": null,
      "outputs": [
        {
          "output_type": "stream",
          "name": "stdout",
          "text": [
            "Model: \"sequential\"\n",
            "_________________________________________________________________\n",
            "Layer (type)                 Output Shape              Param #   \n",
            "=================================================================\n",
            "layer_embedding (Embedding)  (None, 43, 128)           1650560   \n",
            "_________________________________________________________________\n",
            "bidirectional (Bidirectional (None, 43, 512)           197120    \n",
            "_________________________________________________________________\n",
            "bidirectional_1 (Bidirection (None, 43, 256)           164096    \n",
            "_________________________________________________________________\n",
            "bidirectional_2 (Bidirection (None, 128)               41088     \n",
            "_________________________________________________________________\n",
            "dense (Dense)                (None, 256)               33024     \n",
            "_________________________________________________________________\n",
            "dropout (Dropout)            (None, 256)               0         \n",
            "_________________________________________________________________\n",
            "dense_1 (Dense)              (None, 1)                 257       \n",
            "=================================================================\n",
            "Total params: 2,086,145\n",
            "Trainable params: 2,086,145\n",
            "Non-trainable params: 0\n",
            "_________________________________________________________________\n"
          ]
        }
      ]
    },
    {
      "cell_type": "code",
      "metadata": {
        "colab": {
          "base_uri": "https://localhost:8080/",
          "height": 865
        },
        "id": "lsUhNEWSD9Vq",
        "outputId": "a77d03ac-401c-447a-dae5-22d7157913bc"
      },
      "source": [
        "from keras.utils.vis_utils import plot_model\n",
        "plot_model(model, to_file = 'model_plot.png', show_shapes = True, show_layer_names = True)"
      ],
      "execution_count": null,
      "outputs": [
        {
          "output_type": "execute_result",
          "data": {
            "image/png": "[encoded data removed]",
            "text/plain": [
              "<IPython.core.display.Image object>"
            ]
          },
          "metadata": {},
          "execution_count": 33
        }
      ]
    },
    {
      "cell_type": "code",
      "metadata": {
        "colab": {
          "base_uri": "https://localhost:8080/"
        },
        "id": "j8jafacdDKF4",
        "outputId": "d6717ced-2ea0-4feb-d943-23ee7d699f0c"
      },
      "source": [
        "Epochs = 20\n",
        "history = model.fit(\n",
        "     train_padding, train_label, epochs=Epochs, verbose=2,\n",
        "     batch_size=32,\n",
        "     validation_data = (test_padding,test_label))"
      ],
      "execution_count": null,
      "outputs": [
        {
          "output_type": "stream",
          "name": "stdout",
          "text": [
            "Epoch 1/20\n",
            "258/258 - 53s - loss: 0.5570 - accuracy: 0.7708 - precision: 0.3182 - recall: 0.0151 - auc: 0.5022 - val_loss: 0.5228 - val_accuracy: 0.7843 - val_precision: 0.8125 - val_recall: 0.0286 - val_auc: 0.5134\n",
            "Epoch 2/20\n",
            "258/258 - 47s - loss: 0.5117 - accuracy: 0.7993 - precision: 0.8372 - recall: 0.1356 - auc: 0.5750 - val_loss: 0.4464 - val_accuracy: 0.8303 - val_precision: 0.6792 - val_recall: 0.4374 - val_auc: 0.6895\n",
            "Epoch 3/20\n",
            "258/258 - 47s - loss: 0.3857 - accuracy: 0.8690 - precision: 0.7533 - recall: 0.6224 - auc: 0.7969 - val_loss: 0.4234 - val_accuracy: 0.8488 - val_precision: 0.6731 - val_recall: 0.6110 - val_auc: 0.7691\n",
            "Epoch 4/20\n",
            "258/258 - 47s - loss: 0.4149 - accuracy: 0.8351 - precision: 0.6385 - recall: 0.6175 - auc: 0.7888 - val_loss: 0.4639 - val_accuracy: 0.7799 - val_precision: 1.0000 - val_recall: 0.0022 - val_auc: 0.6800\n",
            "Epoch 5/20\n",
            "258/258 - 47s - loss: 0.4067 - accuracy: 0.8405 - precision: 0.6526 - recall: 0.6245 - auc: 0.7872 - val_loss: 0.4775 - val_accuracy: 0.7862 - val_precision: 0.5145 - val_recall: 0.5451 - val_auc: 0.7471\n",
            "Epoch 6/20\n",
            "258/258 - 47s - loss: 0.3977 - accuracy: 0.8440 - precision: 0.6431 - recall: 0.6912 - auc: 0.7929 - val_loss: 0.4896 - val_accuracy: 0.7877 - val_precision: 0.5177 - val_recall: 0.5451 - val_auc: 0.7007\n",
            "Epoch 7/20\n",
            "258/258 - 47s - loss: 0.3928 - accuracy: 0.8491 - precision: 0.6552 - recall: 0.6971 - auc: 0.7955 - val_loss: 0.4610 - val_accuracy: 0.7954 - val_precision: 0.5350 - val_recall: 0.5538 - val_auc: 0.7088\n",
            "Epoch 8/20\n",
            "258/258 - 47s - loss: 0.3771 - accuracy: 0.8606 - precision: 0.6836 - recall: 0.7101 - auc: 0.8149 - val_loss: 0.4394 - val_accuracy: 0.8192 - val_precision: 0.5953 - val_recall: 0.5626 - val_auc: 0.7326\n",
            "Epoch 9/20\n",
            "258/258 - 47s - loss: 0.3499 - accuracy: 0.8621 - precision: 0.6713 - recall: 0.7601 - auc: 0.8495 - val_loss: 0.3643 - val_accuracy: 0.8483 - val_precision: 0.6272 - val_recall: 0.7692 - val_auc: 0.8274\n",
            "Epoch 10/20\n",
            "258/258 - 47s - loss: 0.4443 - accuracy: 0.7627 - precision: 0.4218 - recall: 0.1436 - auc: 0.7634 - val_loss: 0.4771 - val_accuracy: 0.7794 - val_precision: 0.0000e+00 - val_recall: 0.0000e+00 - val_auc: 0.8149\n",
            "Epoch 11/20\n",
            "258/258 - 47s - loss: 0.3387 - accuracy: 0.8616 - precision: 0.7790 - recall: 0.5385 - auc: 0.8770 - val_loss: 0.2339 - val_accuracy: 0.9142 - val_precision: 0.8677 - val_recall: 0.7209 - val_auc: 0.9392\n",
            "Epoch 12/20\n",
            "258/258 - 47s - loss: 0.1336 - accuracy: 0.9561 - precision: 0.9370 - recall: 0.8634 - auc: 0.9733 - val_loss: 0.1981 - val_accuracy: 0.9254 - val_precision: 0.8223 - val_recall: 0.8440 - val_auc: 0.9569\n",
            "Epoch 13/20\n",
            "258/258 - 47s - loss: 0.0931 - accuracy: 0.9704 - precision: 0.9575 - recall: 0.9091 - auc: 0.9861 - val_loss: 0.2361 - val_accuracy: 0.9249 - val_precision: 0.8521 - val_recall: 0.7978 - val_auc: 0.9454\n",
            "Epoch 14/20\n",
            "258/258 - 47s - loss: 0.0559 - accuracy: 0.9835 - precision: 0.9816 - recall: 0.9446 - auc: 0.9934 - val_loss: 0.2835 - val_accuracy: 0.9360 - val_precision: 0.9284 - val_recall: 0.7692 - val_auc: 0.9249\n",
            "Epoch 15/20\n",
            "258/258 - 47s - loss: 0.0430 - accuracy: 0.9884 - precision: 0.9867 - recall: 0.9613 - auc: 0.9951 - val_loss: 0.2320 - val_accuracy: 0.9355 - val_precision: 0.8908 - val_recall: 0.8066 - val_auc: 0.9480\n",
            "Epoch 16/20\n",
            "258/258 - 47s - loss: 0.0365 - accuracy: 0.9904 - precision: 0.9895 - recall: 0.9677 - auc: 0.9960 - val_loss: 0.2843 - val_accuracy: 0.9317 - val_precision: 0.8774 - val_recall: 0.8022 - val_auc: 0.9330\n",
            "Epoch 17/20\n",
            "258/258 - 47s - loss: 0.0350 - accuracy: 0.9903 - precision: 0.9895 - recall: 0.9672 - auc: 0.9961 - val_loss: 0.2430 - val_accuracy: 0.9336 - val_precision: 0.8841 - val_recall: 0.8044 - val_auc: 0.9449\n",
            "Epoch 18/20\n",
            "258/258 - 47s - loss: 0.0294 - accuracy: 0.9913 - precision: 0.9912 - recall: 0.9699 - auc: 0.9970 - val_loss: 0.2681 - val_accuracy: 0.9355 - val_precision: 0.8946 - val_recall: 0.8022 - val_auc: 0.9416\n",
            "Epoch 19/20\n",
            "258/258 - 47s - loss: 0.0242 - accuracy: 0.9938 - precision: 0.9962 - recall: 0.9763 - auc: 0.9983 - val_loss: 0.2945 - val_accuracy: 0.9355 - val_precision: 0.9237 - val_recall: 0.7714 - val_auc: 0.9392\n",
            "Epoch 20/20\n",
            "258/258 - 47s - loss: 0.0273 - accuracy: 0.9933 - precision: 0.9951 - recall: 0.9753 - auc: 0.9977 - val_loss: 0.3565 - val_accuracy: 0.9229 - val_precision: 0.8458 - val_recall: 0.7956 - val_auc: 0.9257\n"
          ]
        }
      ]
    },
    {
      "cell_type": "code",
      "metadata": {
        "colab": {
          "base_uri": "https://localhost:8080/"
        },
        "id": "qJ4sRSjmHXPC",
        "outputId": "272e1b45-4b78-4897-dd4d-c8d5e3cdbc74"
      },
      "source": [
        "print('\\nEpoch No.  Train Loss  Train Accuracy     Val Loss     Val Accuracy')\n",
        "for i in range(Epochs):\n",
        "  print('{:8d} {:10f} \\t {:10f} \\t {:10f} \\t {:10f}'.format(i + 1, history.history['loss'][i], history.history['accuracy'][i], history.history['val_loss'][i], history.history['val_accuracy'][i]))"
      ],
      "execution_count": null,
      "outputs": [
        {
          "output_type": "stream",
          "name": "stdout",
          "text": [
            "\n",
            "Epoch No.  Train Loss  Train Accuracy     Val Loss    Val Accuracy\n",
            "       1   0.557034 \t   0.770816 \t   0.522824 \t   0.784295\n",
            "       2   0.511659 \t   0.799297 \t   0.446430 \t   0.830344\n",
            "       3   0.385709 \t   0.868986 \t   0.423360 \t   0.848764\n",
            "       4   0.414891 \t   0.835050 \t   0.463896 \t   0.779932\n",
            "       5   0.406675 \t   0.840504 \t   0.477490 \t   0.786234\n",
            "       6   0.397677 \t   0.844019 \t   0.489569 \t   0.787688\n",
            "       7   0.392756 \t   0.849109 \t   0.461028 \t   0.795444\n",
            "       8   0.377098 \t   0.860623 \t   0.439425 \t   0.819195\n",
            "       9   0.349934 \t   0.862077 \t   0.364299 \t   0.848279\n",
            "      10   0.444337 \t   0.762695 \t   0.477146 \t   0.779447\n",
            "      11   0.338740 \t   0.861593 \t   0.233877 \t   0.914203\n",
            "      12   0.133561 \t   0.956127 \t   0.198117 \t   0.925351\n",
            "      13   0.093121 \t   0.970428 \t   0.236068 \t   0.924867\n",
            "      14   0.055900 \t   0.983517 \t   0.283493 \t   0.936015\n",
            "      15   0.042967 \t   0.988365 \t   0.232050 \t   0.935531\n",
            "      16   0.036508 \t   0.990425 \t   0.284252 \t   0.931653\n",
            "      17   0.035001 \t   0.990304 \t   0.243044 \t   0.933592\n",
            "      18   0.029406 \t   0.991274 \t   0.268057 \t   0.935531\n",
            "      19   0.024207 \t   0.993819 \t   0.294459 \t   0.935531\n",
            "      20   0.027309 \t   0.993334 \t   0.356520 \t   0.922928\n"
          ]
        }
      ]
    },
    {
      "cell_type": "code",
      "metadata": {
        "colab": {
          "base_uri": "https://localhost:8080/",
          "height": 177
        },
        "id": "eWBWEZDxInVe",
        "outputId": "460b406e-a9fc-4593-c2b5-c4473e5dd375"
      },
      "source": [
        "import matplotlib.pyplot as pyplot\n",
        "pyplot.subplot(211)\n",
        "pyplot.title('Model Loss in Bidirectional RNN')\n",
        "pyplot.ylabel('Loss')\n",
        "pyplot.xlabel('Epoch')\n",
        "pyplot.plot(history.history['loss'], label='train')\n",
        "pyplot.plot(history.history['val_loss'], label='test')\n",
        "pyplot.savefig('/content/drive/My Drive/Loss_Bidirectional_RNN.png')\n",
        "pyplot.legend()\n",
        "pyplot.show()"
      ],
      "execution_count": null,
      "outputs": [
        {
          "output_type": "display_data",
          "data": {
            "image/png": "[encoded data removed]",
            "text/plain": [
              "<Figure size 432x288 with 1 Axes>"
            ]
          },
          "metadata": {
            "needs_background": "light"
          }
        }
      ]
    },
    {
      "cell_type": "code",
      "metadata": {
        "colab": {
          "base_uri": "https://localhost:8080/",
          "height": 177
        },
        "id": "OXVMVFScJJGH",
        "outputId": "dc30103c-65d7-4395-f5a2-54ae86719515"
      },
      "source": [
        "import matplotlib.pyplot as pyplot\n",
        "pyplot.subplot(211)\n",
        "pyplot.title('Model Accuracy in Bidirectional RNN')\n",
        "pyplot.ylabel('Accuracy')\n",
        "pyplot.xlabel('Epoch')\n",
        "Xception_train_accuracy = history.history['accuracy']\n",
        "Xception_test_accuracy= history.history['val_accuracy']\n",
        "pyplot.plot(history.history['accuracy'], label='train')\n",
        "pyplot.plot(history.history['val_accuracy'], label='test')\n",
        "pyplot.savefig('/content/drive/My Drive/Accuracy_Bidirectional_RNN.png')\n",
        "pyplot.legend()\n",
        "pyplot.show()"
      ],
      "execution_count": null,
      "outputs": [
        {
          "output_type": "display_data",
          "data": {
            "image/png": "[encoded data removed]",
            "text/plain": [
              "<Figure size 432x288 with 1 Axes>"
            ]
          },
          "metadata": {
            "needs_background": "light"
          }
        }
      ]
    },
    {
      "cell_type": "code",
      "metadata": {
        "colab": {
          "base_uri": "https://localhost:8080/"
        },
        "id": "MgGCtCSpJX2k",
        "outputId": "b0bec6bb-13d0-4272-b52b-e9b0f7f3d01c"
      },
      "source": [
        "score = model.evaluate(test_padding,test_label)\n",
        "print(\" Total: \", len(test_padding))\n",
        "f1_score = (2*score[2]*score[3])/(score[2]+score[3])\n",
        "print(\"\\n\",\"Loss: \", score[0],\"\\n\", \"Accuracy: \", score[1],\"\\n\", \"Precision: \",score[2], \"\\n\",\"Recall: \",score[3],\"\\n\",\"F1-Score: \",f1_score,\"\\n\",\"AUC: \",score[4])"
      ],
      "execution_count": null,
      "outputs": [
        {
          "output_type": "stream",
          "name": "stdout",
          "text": [
            "65/65 [==============================] - 3s 43ms/step - loss: 0.3565 - accuracy: 0.9229 - precision: 0.8458 - recall: 0.7956 - auc: 0.9257\n",
            " Total:  2063\n",
            "\n",
            " Loss:  0.35651955008506775 \n",
            " Accuracy:  0.9229277968406677 \n",
            " Precision:  0.8457943797111511 \n",
            " Recall:  0.795604407787323 \n",
            " F1-Score:  0.819932050279478 \n",
            " AUC:  0.9257004261016846\n"
          ]
        }
      ]
    },
    {
      "cell_type": "code",
      "metadata": {
        "colab": {
          "base_uri": "https://localhost:8080/"
        },
        "id": "mrD2OD_hJn7-",
        "outputId": "a27ed585-108d-48a8-9b8f-123020b60380"
      },
      "source": [
        "model.compile(optimizer='sgd',\n",
        "              loss='mse',\n",
        "              metrics=['TruePositives','TrueNegatives','FalsePositives','FalseNegatives'])\n",
        "\n",
        "history = model.fit(train_padding, train_label, epochs=1, verbose=2,batch_size=20, validation_data = (test_padding,test_label))"
      ],
      "execution_count": null,
      "outputs": [
        {
          "output_type": "stream",
          "name": "stdout",
          "text": [
            "413/413 - 68s - loss: 0.0042 - true_positives: 1827.0000 - true_negatives: 6386.0000 - false_positives: 6.0000 - false_negatives: 32.0000 - val_loss: 0.0662 - val_true_positives: 361.0000 - val_true_negatives: 1550.0000 - val_false_positives: 58.0000 - val_false_negatives: 94.0000\n"
          ]
        }
      ]
    },
    {
      "cell_type": "code",
      "metadata": {
        "colab": {
          "base_uri": "https://localhost:8080/",
          "height": 315
        },
        "id": "7DlQ_7ybKpcz",
        "outputId": "5f82ad48-7c7e-45f0-9144-a3992574e322"
      },
      "source": [
        "import matplotlib.pyplot as pyplot\n",
        "import seaborn as sn\n",
        "import pandas as pd\n",
        "import matplotlib.pyplot as plt\n",
        "\n",
        "\n",
        "array = [[6386,6],\n",
        "         [32,1827]]\n",
        "\n",
        "df_cm = pd.DataFrame(array, range(2), range(2))\n",
        "\n",
        "sn.set(font_scale=1.4) # for label size\n",
        "sn.heatmap(df_cm, annot=True, annot_kws={\"size\": 12}, fmt = 'g') # font size\n",
        "pyplot.title('Confusion Matrix in train set')\n",
        "pyplot.ylabel('Actual Class')\n",
        "pyplot.xlabel('Predicted Class')\n",
        "pyplot.savefig('/content/drive/My Drive/ConfusionMatrix_Bidirectional_RNN_train.png')\n",
        "pyplot.show()"
      ],
      "execution_count": null,
      "outputs": [
        {
          "output_type": "display_data",
          "data": {
            "image/png": "[encoded data removed]",
            "text/plain": [
              "<Figure size 432x288 with 2 Axes>"
            ]
          },
          "metadata": {}
        }
      ]
    },
    {
      "cell_type": "code",
      "metadata": {
        "colab": {
          "base_uri": "https://localhost:8080/",
          "height": 315
        },
        "id": "-z-hI_R-KwPP",
        "outputId": "d6c7f186-4cf2-4a27-b1b2-f38ea6b67373"
      },
      "source": [
        "import matplotlib.pyplot as pyplot\n",
        "import seaborn as sn\n",
        "import pandas as pd\n",
        "import matplotlib.pyplot as plt\n",
        "\n",
        "\n",
        "array = [[1550,58],\n",
        "         [94,361]]\n",
        "\n",
        "\n",
        "df_cm = pd.DataFrame(array, range(2), range(2))\n",
        "\n",
        "sn.set(font_scale=1.4) # for label size\n",
        "sn.heatmap(df_cm, annot=True, annot_kws={\"size\": 12}, fmt = 'g') # font size\n",
        "pyplot.title('Confusion Matrix in test set')\n",
        "pyplot.ylabel('Actual Class')\n",
        "pyplot.xlabel('Predicted Class')\n",
        "pyplot.savefig('/content/drive/My Drive/ConfusionMatrix_Bidirectional_RNN_test.png')\n",
        "pyplot.show()"
      ],
      "execution_count": null,
      "outputs": [
        {
          "output_type": "display_data",
          "data": {
            "image/png": "[encoded data removed]",
            "text/plain": [
              "<Figure size 432x288 with 2 Axes>"
            ]
          },
          "metadata": {}
        }
      ]
    },
    {
      "cell_type": "markdown",
      "metadata": {
        "id": "v3C9eOjcUzXe"
      },
      "source": [
        "***Predictions***"
      ]
    },
    {
      "cell_type": "code",
      "metadata": {
        "colab": {
          "base_uri": "https://localhost:8080/"
        },
        "id": "crAsTud7CW_N",
        "outputId": "f482b857-e18b-4243-dcc0-18fed7bbb83c"
      },
      "source": [
        "y_pred = model.predict(x=test_padding[0:1000])\n",
        "y_pred = y_pred.T[0]\n",
        "cls_pred = np.array([1.0 if p>0.5 else 0.0 for p in y_pred])\n",
        "cls_true = np.array(test_label[0:1000])\n",
        "incorrect = np.where(cls_pred != cls_true)\n",
        "correct = np.where(cls_pred == cls_true)\n",
        "incorrect = incorrect[0]\n",
        "correct = correct[0]\n",
        "print('\\n')\n",
        "print('Number of Mis-classified text in first 1000: ',len(incorrect),'\\n')\n",
        "print('Number of classified text in first 1000: ',len(correct),'\\n')\n",
        "idx = incorrect[0]\n",
        "idx1 = correct[0]\n",
        "print('First incorrect text index is: ',idx,'\\n')\n",
        "print('First correct text index is: ',idx1,'\\n')\n",
        "text = tokens_to_string(train_text[idx])\n",
        "text1 = tokens_to_string(train_text[idx1])\n",
        "print('First incorrect text is: ',text,'\\n')\n",
        "print('First correct text is: ',text1,'\\n')\n",
        "print('The predicted class for the first incorrect text is: ',y_pred[idx],'\\n')\n",
        "print('The actual class for the first incorrect text is: ',cls_true[idx],'\\n')\n",
        "print('The predicted class for the first correct text is: ',y_pred[idx1],'\\n')\n",
        "print('The actual class for the first correct text is: ',cls_true[idx1],'\\n')"
      ],
      "execution_count": null,
      "outputs": [
        {
          "output_type": "stream",
          "name": "stdout",
          "text": [
            "\n",
            "\n",
            "Number of Mis-classified text in first 1000:  76 \n",
            "\n",
            "Number of classified text in first 1000:  924 \n",
            "\n",
            "First incorrect text index is:  15 \n",
            "\n",
            "First correct text index is:  0 \n",
            "\n",
            "First incorrect text is:  i drink sans perhaps \n",
            "\n",
            "First correct text is:  time taste get outside yet antonio \n",
            "\n",
            "The predicted class for the first incorrect text is:  0.98903376 \n",
            "\n",
            "The actual class for the first incorrect text is:  0 \n",
            "\n",
            "The predicted class for the first correct text is:  0.89492685 \n",
            "\n",
            "The actual class for the first correct text is:  1 \n",
            "\n"
          ]
        }
      ]
    }
  ]
}